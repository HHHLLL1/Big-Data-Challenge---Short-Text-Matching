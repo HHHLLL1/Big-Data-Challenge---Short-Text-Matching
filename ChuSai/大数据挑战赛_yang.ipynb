{
 "cells": [
  {
   "cell_type": "code",
   "execution_count": 5,
   "metadata": {
    "trusted": true,
    "collapsed": false,
    "id": "9863258ECFFF488C8CD34B48E1213AEA",
    "scrolled": false,
    "mdEditEnable": false
   },
   "outputs": [
    {
     "name": "stdout",
     "output_type": "stream",
     "text": [
      "ls: cannot access '/home/kesci/input/bytedance/first-round/': No such file or directory\r\n"
     ]
    }
   ],
   "source": [
    "!ls -lh /home/kesci/input/bytedance/first-round/"
   ]
  },
  {
   "cell_type": "code",
   "execution_count": null,
   "metadata": {
    "id": "B149EED3E1E142BC912B8CAA623F0EBE"
   },
   "outputs": [],
   "source": [
    ""
   ]
  },
  {
   "cell_type": "code",
   "execution_count": 2,
   "metadata": {
    "id": "87E9AC72A7124E768393A053D0D8F5CD",
    "collapsed": false,
    "scrolled": false
   },
   "outputs": [
    {
     "name": "stdout",
     "output_type": "stream",
     "text": [
      "wget: /opt/conda/lib/libcrypto.so.1.0.0: no version information available (required by wget)\nwget: /opt/conda/lib/libssl.so.1.0.0: no version information available (required by wget)\nwget: /opt/conda/lib/libssl.so.1.0.0: no version information available (required by wget)\n2019-06-04 14:44:10 URL:https://www.heywhale.com/kesci_submit [7842088/7842088] -> \"kesci_submit\" [1]\n"
     ]
    }
   ],
   "source": [
    "!wget -nv -O kesci_submit https://www.heywhale.com/kesci_submit&&chmod +x kesci_submit"
   ]
  },
  {
   "cell_type": "code",
   "execution_count": 1,
   "metadata": {
    "id": "5B728A42E588487ABC659E51B12FFF39",
    "collapsed": false,
    "scrolled": false
   },
   "outputs": [
    {
     "ename": "IndentationError",
     "evalue": "unexpected indent (<ipython-input-1-c19150ebc271>, line 3)",
     "traceback": [
      "\u001b[0;36m  File \u001b[0;32m\"<ipython-input-1-c19150ebc271>\"\u001b[0;36m, line \u001b[0;32m3\u001b[0m\n\u001b[0;31m    names=[\"query_id\",\"query\",\"query_title_id\",\"title\",\"lanel\"])\u001b[0m\n\u001b[0m    ^\u001b[0m\n\u001b[0;31mIndentationError\u001b[0m\u001b[0;31m:\u001b[0m unexpected indent\n"
     ],
     "output_type": "error"
    }
   ],
   "source": [
    "import pandas as pd\n",
    "#data_train=pd.read_csv('/home/kesci/input/bytedance/first-round/train.csv',header=None,\n",
    "                            names=[\"query_id\",\"query\",\"query_title_id\",\"title\",\"lanel\"])"
   ]
  },
  {
   "cell_type": "code",
   "execution_count": 3,
   "metadata": {
    "id": "A287DE4FCB9B4DBB8AD13A346E27C3EC",
    "collapsed": false,
    "scrolled": false
   },
   "outputs": [
    {
     "data": {
      "text/html": [
       "<div>\n<style scoped>\n    .dataframe tbody tr th:only-of-type {\n        vertical-align: middle;\n    }\n\n    .dataframe tbody tr th {\n        vertical-align: top;\n    }\n\n    .dataframe thead th {\n        text-align: right;\n    }\n</style>\n<table border=\"1\" class=\"dataframe\">\n  <thead>\n    <tr style=\"text-align: right;\">\n      <th></th>\n      <th>list_len1</th>\n      <th>list_len2</th>\n      <th>list_len</th>\n      <th>list_p</th>\n      <th>liat_same</th>\n    </tr>\n  </thead>\n  <tbody>\n    <tr>\n      <th>0</th>\n      <td>38</td>\n      <td>18</td>\n      <td>20</td>\n      <td>97</td>\n      <td>4</td>\n    </tr>\n    <tr>\n      <th>1</th>\n      <td>38</td>\n      <td>15</td>\n      <td>23</td>\n      <td>110</td>\n      <td>7</td>\n    </tr>\n    <tr>\n      <th>2</th>\n      <td>38</td>\n      <td>14</td>\n      <td>24</td>\n      <td>179</td>\n      <td>12</td>\n    </tr>\n    <tr>\n      <th>3</th>\n      <td>34</td>\n      <td>33</td>\n      <td>1</td>\n      <td>110</td>\n      <td>5</td>\n    </tr>\n    <tr>\n      <th>4</th>\n      <td>34</td>\n      <td>14</td>\n      <td>20</td>\n      <td>119</td>\n      <td>9</td>\n    </tr>\n  </tbody>\n</table>\n</div>"
      ],
      "text/plain": [
       "   list_len1  list_len2  list_len  list_p  liat_same\n0         38         18        20      97          4\n1         38         15        23     110          7\n2         38         14        24     179         12\n3         34         33         1     110          5\n4         34         14        20     119          9"
      ]
     },
     "execution_count": 3,
     "metadata": {},
     "output_type": "execute_result"
    }
   ],
   "source": [
    "y=data_train[\"lanel\"]\r\n",
    "del data_train[\"query_id\"]\r\n",
    "del data_train[\"query_title_id\"]\r\n",
    "del data_train[\"lanel\"]\r\n",
    "list_len1=[]\r\n",
    "list_len2=[]\r\n",
    "list_len=[]\r\n",
    "list_p=[]\r\n",
    "list_same=[]\r\n",
    "for i in range(100000000):\r\n",
    "    a=data_train[\"query\"][i].split()\r\n",
    "    b=data_train[\"title\"][i].split()\r\n",
    "    list_len1.append(len(a))\r\n",
    "    list_len2.append(len(b))\r\n",
    "    list_len.append(abs(len(a)-len(b)))\r\n",
    "    count=0\r\n",
    "    p=0\r\n",
    "    z=0\r\n",
    "    for x in a:\r\n",
    "        p=p+1\r\n",
    "        if x in b:\r\n",
    "            z=z+p\r\n",
    "            count=count+1\r\n",
    "    list_same.append(count)\r\n",
    "    list_p.append(z)\r\n",
    "    \r\n",
    "submission = pd.DataFrame({\"list_len1\":list_len1,\"list_len2\":list_len2,\"list_len\":list_len,\"list_p\":list_p,\"liat_same\":list_same})\r\n",
    "submission.head()"
   ]
  },
  {
   "cell_type": "code",
   "execution_count": 1,
   "metadata": {
    "id": "9E13DF2E02AF4761A07FE15D00CA1DB3",
    "collapsed": false,
    "scrolled": false
   },
   "outputs": [],
   "source": [
    "submission.to_csv(\"train_new1.csv\", index=False)"
   ]
  },
  {
   "cell_type": "code",
   "execution_count": 1,
   "metadata": {
    "id": "3F68F88A6C384F0C8C3A031FB62A9B98",
    "collapsed": false,
    "scrolled": false
   },
   "outputs": [
    {
     "data": {
      "text/plain": [
       "(100000000,)"
      ]
     },
     "execution_count": 1,
     "metadata": {},
     "output_type": "execute_result"
    }
   ],
   "source": [
    "import pandas as pd\n",
    "submission=pd.read_csv(\"train_new1.csv\")\n",
    "data_train=pd.read_csv('/home/kesci/input/bytedance/first-round/train.csv',header=None,\n",
    "                            names=[\"query_id\",\"query\",\"query_title_id\",\"title\",\"lanel\"])\n",
    "submission[\"title_id\"]=data_train[\"query_title_id\"]\n",
    "y=data_train[\"lanel\"]\n",
    "data_train=1\n",
    "y.shape"
   ]
  },
  {
   "cell_type": "code",
   "execution_count": 2,
   "metadata": {
    "id": "33FCEBC1BDAF4DD5AF6E080683775141",
    "collapsed": false,
    "scrolled": false
   },
   "outputs": [
    {
     "data": {
      "text/html": [
       "<div>\n<style scoped>\n    .dataframe tbody tr th:only-of-type {\n        vertical-align: middle;\n    }\n\n    .dataframe tbody tr th {\n        vertical-align: top;\n    }\n\n    .dataframe thead th {\n        text-align: right;\n    }\n</style>\n<table border=\"1\" class=\"dataframe\">\n  <thead>\n    <tr style=\"text-align: right;\">\n      <th></th>\n      <th>list_len1</th>\n      <th>list_len2</th>\n      <th>list_len</th>\n      <th>list_p</th>\n      <th>liat_same</th>\n      <th>title_id</th>\n      <th>list_jian_1</th>\n      <th>list_jian_2</th>\n      <th>list_jian_3</th>\n      <th>list_jian_4</th>\n    </tr>\n  </thead>\n  <tbody>\n    <tr>\n      <th>0</th>\n      <td>38</td>\n      <td>18</td>\n      <td>20</td>\n      <td>97</td>\n      <td>4</td>\n      <td>1</td>\n      <td>0.105263</td>\n      <td>0.222222</td>\n      <td>34</td>\n      <td>14</td>\n    </tr>\n    <tr>\n      <th>1</th>\n      <td>38</td>\n      <td>15</td>\n      <td>23</td>\n      <td>110</td>\n      <td>7</td>\n      <td>2</td>\n      <td>0.184211</td>\n      <td>0.466667</td>\n      <td>31</td>\n      <td>8</td>\n    </tr>\n    <tr>\n      <th>2</th>\n      <td>38</td>\n      <td>14</td>\n      <td>24</td>\n      <td>179</td>\n      <td>12</td>\n      <td>3</td>\n      <td>0.315789</td>\n      <td>0.857143</td>\n      <td>26</td>\n      <td>2</td>\n    </tr>\n    <tr>\n      <th>3</th>\n      <td>34</td>\n      <td>33</td>\n      <td>1</td>\n      <td>110</td>\n      <td>5</td>\n      <td>1</td>\n      <td>0.147059</td>\n      <td>0.151515</td>\n      <td>29</td>\n      <td>28</td>\n    </tr>\n    <tr>\n      <th>4</th>\n      <td>34</td>\n      <td>14</td>\n      <td>20</td>\n      <td>119</td>\n      <td>9</td>\n      <td>2</td>\n      <td>0.264706</td>\n      <td>0.642857</td>\n      <td>25</td>\n      <td>5</td>\n    </tr>\n    <tr>\n      <th>5</th>\n      <td>34</td>\n      <td>19</td>\n      <td>15</td>\n      <td>46</td>\n      <td>3</td>\n      <td>3</td>\n      <td>0.088235</td>\n      <td>0.157895</td>\n      <td>31</td>\n      <td>16</td>\n    </tr>\n    <tr>\n      <th>6</th>\n      <td>35</td>\n      <td>16</td>\n      <td>19</td>\n      <td>103</td>\n      <td>5</td>\n      <td>1</td>\n      <td>0.142857</td>\n      <td>0.312500</td>\n      <td>30</td>\n      <td>11</td>\n    </tr>\n    <tr>\n      <th>7</th>\n      <td>35</td>\n      <td>18</td>\n      <td>17</td>\n      <td>85</td>\n      <td>4</td>\n      <td>2</td>\n      <td>0.114286</td>\n      <td>0.222222</td>\n      <td>31</td>\n      <td>14</td>\n    </tr>\n    <tr>\n      <th>8</th>\n      <td>35</td>\n      <td>14</td>\n      <td>21</td>\n      <td>134</td>\n      <td>10</td>\n      <td>3</td>\n      <td>0.285714</td>\n      <td>0.714286</td>\n      <td>25</td>\n      <td>4</td>\n    </tr>\n    <tr>\n      <th>9</th>\n      <td>6</td>\n      <td>14</td>\n      <td>8</td>\n      <td>9</td>\n      <td>3</td>\n      <td>1</td>\n      <td>0.500000</td>\n      <td>0.214286</td>\n      <td>3</td>\n      <td>11</td>\n    </tr>\n    <tr>\n      <th>10</th>\n      <td>6</td>\n      <td>12</td>\n      <td>6</td>\n      <td>14</td>\n      <td>4</td>\n      <td>2</td>\n      <td>0.666667</td>\n      <td>0.333333</td>\n      <td>2</td>\n      <td>8</td>\n    </tr>\n    <tr>\n      <th>11</th>\n      <td>6</td>\n      <td>20</td>\n      <td>14</td>\n      <td>14</td>\n      <td>4</td>\n      <td>3</td>\n      <td>0.666667</td>\n      <td>0.200000</td>\n      <td>2</td>\n      <td>16</td>\n    </tr>\n    <tr>\n      <th>12</th>\n      <td>6</td>\n      <td>19</td>\n      <td>13</td>\n      <td>10</td>\n      <td>3</td>\n      <td>4</td>\n      <td>0.500000</td>\n      <td>0.157895</td>\n      <td>3</td>\n      <td>16</td>\n    </tr>\n    <tr>\n      <th>13</th>\n      <td>6</td>\n      <td>19</td>\n      <td>13</td>\n      <td>10</td>\n      <td>3</td>\n      <td>5</td>\n      <td>0.500000</td>\n      <td>0.157895</td>\n      <td>3</td>\n      <td>16</td>\n    </tr>\n    <tr>\n      <th>14</th>\n      <td>6</td>\n      <td>23</td>\n      <td>17</td>\n      <td>16</td>\n      <td>5</td>\n      <td>6</td>\n      <td>0.833333</td>\n      <td>0.217391</td>\n      <td>1</td>\n      <td>18</td>\n    </tr>\n    <tr>\n      <th>15</th>\n      <td>6</td>\n      <td>19</td>\n      <td>13</td>\n      <td>16</td>\n      <td>5</td>\n      <td>7</td>\n      <td>0.833333</td>\n      <td>0.263158</td>\n      <td>1</td>\n      <td>14</td>\n    </tr>\n    <tr>\n      <th>16</th>\n      <td>6</td>\n      <td>15</td>\n      <td>9</td>\n      <td>16</td>\n      <td>5</td>\n      <td>8</td>\n      <td>0.833333</td>\n      <td>0.333333</td>\n      <td>1</td>\n      <td>10</td>\n    </tr>\n    <tr>\n      <th>17</th>\n      <td>6</td>\n      <td>16</td>\n      <td>10</td>\n      <td>9</td>\n      <td>3</td>\n      <td>9</td>\n      <td>0.500000</td>\n      <td>0.187500</td>\n      <td>3</td>\n      <td>13</td>\n    </tr>\n    <tr>\n      <th>18</th>\n      <td>6</td>\n      <td>16</td>\n      <td>10</td>\n      <td>9</td>\n      <td>3</td>\n      <td>10</td>\n      <td>0.500000</td>\n      <td>0.187500</td>\n      <td>3</td>\n      <td>13</td>\n    </tr>\n    <tr>\n      <th>19</th>\n      <td>6</td>\n      <td>17</td>\n      <td>11</td>\n      <td>13</td>\n      <td>3</td>\n      <td>11</td>\n      <td>0.500000</td>\n      <td>0.176471</td>\n      <td>3</td>\n      <td>14</td>\n    </tr>\n  </tbody>\n</table>\n</div>"
      ],
      "text/plain": [
       "    list_len1  list_len2  list_len  list_p  liat_same  title_id  list_jian_1  \\\n0          38         18        20      97          4         1     0.105263   \n1          38         15        23     110          7         2     0.184211   \n2          38         14        24     179         12         3     0.315789   \n3          34         33         1     110          5         1     0.147059   \n4          34         14        20     119          9         2     0.264706   \n5          34         19        15      46          3         3     0.088235   \n6          35         16        19     103          5         1     0.142857   \n7          35         18        17      85          4         2     0.114286   \n8          35         14        21     134         10         3     0.285714   \n9           6         14         8       9          3         1     0.500000   \n10          6         12         6      14          4         2     0.666667   \n11          6         20        14      14          4         3     0.666667   \n12          6         19        13      10          3         4     0.500000   \n13          6         19        13      10          3         5     0.500000   \n14          6         23        17      16          5         6     0.833333   \n15          6         19        13      16          5         7     0.833333   \n16          6         15         9      16          5         8     0.833333   \n17          6         16        10       9          3         9     0.500000   \n18          6         16        10       9          3        10     0.500000   \n19          6         17        11      13          3        11     0.500000   \n\n    list_jian_2  list_jian_3  list_jian_4  \n0      0.222222           34           14  \n1      0.466667           31            8  \n2      0.857143           26            2  \n3      0.151515           29           28  \n4      0.642857           25            5  \n5      0.157895           31           16  \n6      0.312500           30           11  \n7      0.222222           31           14  \n8      0.714286           25            4  \n9      0.214286            3           11  \n10     0.333333            2            8  \n11     0.200000            2           16  \n12     0.157895            3           16  \n13     0.157895            3           16  \n14     0.217391            1           18  \n15     0.263158            1           14  \n16     0.333333            1           10  \n17     0.187500            3           13  \n18     0.187500            3           13  \n19     0.176471            3           14  "
      ]
     },
     "execution_count": 2,
     "metadata": {},
     "output_type": "execute_result"
    }
   ],
   "source": [
    "submission.head(20)\n",
    "submission[\"list_jian_1\"]=submission[\"liat_same\"]/submission[\"list_len1\"]\n",
    "submission[\"list_jian_2\"]=submission[\"liat_same\"]/submission[\"list_len2\"]\n",
    "submission[\"list_jian_3\"]=submission[\"list_len1\"]-submission[\"liat_same\"]\n",
    "submission[\"list_jian_4\"]=submission[\"list_len2\"]-submission[\"liat_same\"]\n",
    "submission.head(20)"
   ]
  },
  {
   "cell_type": "code",
   "execution_count": null,
   "metadata": {
    "id": "ED6F78261D664FF28106383B56880003"
   },
   "outputs": [],
   "source": [
    ""
   ]
  },
  {
   "cell_type": "code",
   "execution_count": 3,
   "metadata": {
    "id": "56231F08CDF94B9697AD23A851D874AB",
    "collapsed": false,
    "scrolled": false
   },
   "outputs": [
    {
     "data": {
      "text/html": [
       "<div>\n<style scoped>\n    .dataframe tbody tr th:only-of-type {\n        vertical-align: middle;\n    }\n\n    .dataframe tbody tr th {\n        vertical-align: top;\n    }\n\n    .dataframe thead th {\n        text-align: right;\n    }\n</style>\n<table border=\"1\" class=\"dataframe\">\n  <thead>\n    <tr style=\"text-align: right;\">\n      <th></th>\n      <th>list_len1</th>\n      <th>list_len2</th>\n      <th>list_len</th>\n      <th>list_p</th>\n      <th>liat_same</th>\n    </tr>\n  </thead>\n  <tbody>\n    <tr>\n      <th>0</th>\n      <td>3</td>\n      <td>17</td>\n      <td>14</td>\n      <td>6</td>\n      <td>3</td>\n    </tr>\n    <tr>\n      <th>1</th>\n      <td>3</td>\n      <td>15</td>\n      <td>12</td>\n      <td>6</td>\n      <td>3</td>\n    </tr>\n    <tr>\n      <th>2</th>\n      <td>3</td>\n      <td>15</td>\n      <td>12</td>\n      <td>6</td>\n      <td>3</td>\n    </tr>\n    <tr>\n      <th>3</th>\n      <td>3</td>\n      <td>20</td>\n      <td>17</td>\n      <td>6</td>\n      <td>3</td>\n    </tr>\n    <tr>\n      <th>4</th>\n      <td>4</td>\n      <td>15</td>\n      <td>11</td>\n      <td>3</td>\n      <td>2</td>\n    </tr>\n  </tbody>\n</table>\n</div>"
      ],
      "text/plain": [
       "   list_len1  list_len2  list_len  list_p  liat_same\n0          3         17        14       6          3\n1          3         15        12       6          3\n2          3         15        12       6          3\n3          3         20        17       6          3\n4          4         15        11       3          2"
      ]
     },
     "execution_count": 3,
     "metadata": {},
     "output_type": "execute_result"
    }
   ],
   "source": [
    "test=pd.read_csv('/home/kesci/input/bytedance/first-round/test.csv',header=None,names=[\"query_id\",\"query\",\"query_title_id\",\"title\",\"lanel\"])\r\n",
    "list_len1=[]\r\n",
    "list_len2=[]\r\n",
    "list_len=[]\r\n",
    "list_p=[]\r\n",
    "list_same=[]\r\n",
    "for i in range(5000000):\r\n",
    "    a=test[\"query\"][i].split()\r\n",
    "    b=test[\"title\"][i].split()\r\n",
    "    list_len1.append(len(a))\r\n",
    "    list_len2.append(len(b))\r\n",
    "    list_len.append(abs(len(a)-len(b)))\r\n",
    "    count=0\r\n",
    "    p=0\r\n",
    "    z=0\r\n",
    "    for x in a:\r\n",
    "        p=p+1\r\n",
    "        if x in b:\r\n",
    "            z=z+p\r\n",
    "            count=count+1\r\n",
    "    list_same.append(count)\r\n",
    "    list_p.append(z)\r\n",
    "    \r\n",
    "submission_test = pd.DataFrame({\"list_len1\":list_len1,\"list_len2\":list_len2,\"list_len\":list_len,\"list_p\":list_p,\"liat_same\":list_same})\r\n",
    "\r\n",
    "\r\n",
    "list_len1=[]\r\n",
    "list_len2=[]\r\n",
    "list_len=[]\r\n",
    "list_p=[]\r\n",
    "list_same=[]\r\n",
    "submission_test.to_csv(\"test_new\",index=False)\r\n",
    "submission_test.head()"
   ]
  },
  {
   "cell_type": "code",
   "execution_count": 3,
   "metadata": {
    "id": "9BEDB63E57064BCB8878FCEC7CBC3397",
    "collapsed": false,
    "scrolled": false
   },
   "outputs": [
    {
     "data": {
      "text/html": [
       "<div>\n<style scoped>\n    .dataframe tbody tr th:only-of-type {\n        vertical-align: middle;\n    }\n\n    .dataframe tbody tr th {\n        vertical-align: top;\n    }\n\n    .dataframe thead th {\n        text-align: right;\n    }\n</style>\n<table border=\"1\" class=\"dataframe\">\n  <thead>\n    <tr style=\"text-align: right;\">\n      <th></th>\n      <th>query_id</th>\n      <th>query</th>\n      <th>query_title_id</th>\n      <th>title</th>\n      <th>lanel</th>\n    </tr>\n  </thead>\n  <tbody>\n    <tr>\n      <th>0</th>\n      <td>1</td>\n      <td>11202 184 50256</td>\n      <td>3</td>\n      <td>11202 184 2346 2527 274 383 34 1033 156 18 502...</td>\n      <td>NaN</td>\n    </tr>\n    <tr>\n      <th>1</th>\n      <td>1</td>\n      <td>11202 184 50256</td>\n      <td>1</td>\n      <td>11202 184 21479 808 383 34 1033 18 50256 19 27...</td>\n      <td>NaN</td>\n    </tr>\n    <tr>\n      <th>2</th>\n      <td>1</td>\n      <td>11202 184 50256</td>\n      <td>4</td>\n      <td>11202 184 21479 15 227 383 34 1033 156 116 18 ...</td>\n      <td>NaN</td>\n    </tr>\n    <tr>\n      <th>3</th>\n      <td>1</td>\n      <td>11202 184 50256</td>\n      <td>2</td>\n      <td>11202 184 274 383 34 1033 156 15 18 50256 19 2...</td>\n      <td>NaN</td>\n    </tr>\n    <tr>\n      <th>4</th>\n      <td>2</td>\n      <td>1013 6811 14038 1156</td>\n      <td>1</td>\n      <td>361 628 1020 513 126 15 1013 6811 2315 743 27 ...</td>\n      <td>NaN</td>\n    </tr>\n  </tbody>\n</table>\n</div>"
      ],
      "text/plain": [
       "   query_id                 query  query_title_id  \\\n0         1       11202 184 50256               3   \n1         1       11202 184 50256               1   \n2         1       11202 184 50256               4   \n3         1       11202 184 50256               2   \n4         2  1013 6811 14038 1156               1   \n\n                                               title  lanel  \n0  11202 184 2346 2527 274 383 34 1033 156 18 502...    NaN  \n1  11202 184 21479 808 383 34 1033 18 50256 19 27...    NaN  \n2  11202 184 21479 15 227 383 34 1033 156 116 18 ...    NaN  \n3  11202 184 274 383 34 1033 156 15 18 50256 19 2...    NaN  \n4  361 628 1020 513 126 15 1013 6811 2315 743 27 ...    NaN  "
      ]
     },
     "execution_count": 3,
     "metadata": {},
     "output_type": "execute_result"
    }
   ],
   "source": [
    "import pandas as pd\n",
    "submission_test=pd.read_csv(\"test_new\")\n",
    "data_test=pd.read_csv('/home/kesci/input/bytedance/first-round/test.csv',header=None,\n",
    "                            names=[\"query_id\",\"query\",\"query_title_id\",\"title\",\"lanel\"])\n",
    "data_test.head()"
   ]
  },
  {
   "cell_type": "code",
   "execution_count": null,
   "metadata": {
    "id": "1F2450B604D647EF8B321E8C3D5D3019",
    "collapsed": false,
    "scrolled": false
   },
   "outputs": [],
   "source": [
    ""
   ]
  },
  {
   "cell_type": "code",
   "execution_count": 4,
   "metadata": {
    "id": "DD3E326AD3444B3E83AD0441ACE6793B",
    "collapsed": false,
    "scrolled": false
   },
   "outputs": [],
   "source": [
    "data_test['group_sort']=data_test[\"query_id\"].groupby(data_test['query_id']).rank(ascending=0,method='first')\n",
    "\n",
    "submission_test[\"title_id\"]=data_test['group_sort'].astype(\"int\")\n",
    "data_test=1"
   ]
  },
  {
   "cell_type": "code",
   "execution_count": 3,
   "metadata": {
    "id": "75C6C24A94B442C8A15153576A127671",
    "collapsed": false,
    "scrolled": false
   },
   "outputs": [],
   "source": [
    "submission_test.to_csv(\"testaaa\",index=False)"
   ]
  },
  {
   "cell_type": "code",
   "execution_count": 5,
   "metadata": {
    "id": "FB0A9D8178F344AE887CEE8C6C6983FC",
    "collapsed": false,
    "scrolled": false
   },
   "outputs": [
    {
     "data": {
      "text/html": [
       "<div>\n<style scoped>\n    .dataframe tbody tr th:only-of-type {\n        vertical-align: middle;\n    }\n\n    .dataframe tbody tr th {\n        vertical-align: top;\n    }\n\n    .dataframe thead th {\n        text-align: right;\n    }\n</style>\n<table border=\"1\" class=\"dataframe\">\n  <thead>\n    <tr style=\"text-align: right;\">\n      <th></th>\n      <th>list_len1</th>\n      <th>list_len2</th>\n      <th>list_len</th>\n      <th>list_p</th>\n      <th>liat_same</th>\n      <th>title_id</th>\n      <th>list_jian_1</th>\n      <th>list_jian_2</th>\n      <th>list_jian_3</th>\n      <th>list_jian_4</th>\n    </tr>\n  </thead>\n  <tbody>\n    <tr>\n      <th>0</th>\n      <td>3</td>\n      <td>17</td>\n      <td>14</td>\n      <td>6</td>\n      <td>3</td>\n      <td>1</td>\n      <td>1.0</td>\n      <td>0.176471</td>\n      <td>0</td>\n      <td>14</td>\n    </tr>\n    <tr>\n      <th>1</th>\n      <td>3</td>\n      <td>15</td>\n      <td>12</td>\n      <td>6</td>\n      <td>3</td>\n      <td>2</td>\n      <td>1.0</td>\n      <td>0.200000</td>\n      <td>0</td>\n      <td>12</td>\n    </tr>\n    <tr>\n      <th>2</th>\n      <td>3</td>\n      <td>15</td>\n      <td>12</td>\n      <td>6</td>\n      <td>3</td>\n      <td>3</td>\n      <td>1.0</td>\n      <td>0.200000</td>\n      <td>0</td>\n      <td>12</td>\n    </tr>\n    <tr>\n      <th>3</th>\n      <td>3</td>\n      <td>20</td>\n      <td>17</td>\n      <td>6</td>\n      <td>3</td>\n      <td>4</td>\n      <td>1.0</td>\n      <td>0.150000</td>\n      <td>0</td>\n      <td>17</td>\n    </tr>\n    <tr>\n      <th>4</th>\n      <td>4</td>\n      <td>15</td>\n      <td>11</td>\n      <td>3</td>\n      <td>2</td>\n      <td>1</td>\n      <td>0.5</td>\n      <td>0.133333</td>\n      <td>2</td>\n      <td>13</td>\n    </tr>\n  </tbody>\n</table>\n</div>"
      ],
      "text/plain": [
       "   list_len1  list_len2  list_len  list_p  liat_same  title_id  list_jian_1  \\\n0          3         17        14       6          3         1          1.0   \n1          3         15        12       6          3         2          1.0   \n2          3         15        12       6          3         3          1.0   \n3          3         20        17       6          3         4          1.0   \n4          4         15        11       3          2         1          0.5   \n\n   list_jian_2  list_jian_3  list_jian_4  \n0     0.176471            0           14  \n1     0.200000            0           12  \n2     0.200000            0           12  \n3     0.150000            0           17  \n4     0.133333            2           13  "
      ]
     },
     "execution_count": 5,
     "metadata": {},
     "output_type": "execute_result"
    }
   ],
   "source": [
    "submission_test[\"list_jian_1\"]=submission_test[\"liat_same\"]/submission_test[\"list_len1\"]\n",
    "submission_test[\"list_jian_2\"]=submission_test[\"liat_same\"]/submission_test[\"list_len2\"]\n",
    "submission_test[\"list_jian_3\"]=submission_test[\"list_len1\"]-submission_test[\"liat_same\"]\n",
    "submission_test[\"list_jian_4\"]=submission_test[\"list_len2\"]-submission_test[\"liat_same\"]\n",
    "submission_test.head()"
   ]
  },
  {
   "cell_type": "code",
   "execution_count": null,
   "metadata": {
    "id": "95818E5A44614FCEAA74B0483A2D269B",
    "collapsed": false,
    "scrolled": false
   },
   "outputs": [],
   "source": [
    "submission_test.to_csv(\"test_id\",index=False)"
   ]
  },
  {
   "cell_type": "code",
   "execution_count": 5,
   "metadata": {
    "id": "2E55C8D81999456BB4111346DD15D37B",
    "collapsed": false,
    "scrolled": false
   },
   "outputs": [
    {
     "data": {
      "text/plain": [
       "(100000000,)"
      ]
     },
     "execution_count": 5,
     "metadata": {},
     "output_type": "execute_result"
    }
   ],
   "source": [
    "data_train=pd.read_csv('/home/kesci/input/bytedance/first-round/train.csv',header=None,\n",
    "                            names=[\"query_id\",\"query\",\"query_title_id\",\"title\",\"lanel\"])\n",
    "y=data_train[\"lanel\"]\n",
    "data_train=1\n",
    "y.shape"
   ]
  },
  {
   "cell_type": "code",
   "execution_count": 11,
   "metadata": {
    "id": "9F6660C906624D978F2736D9816D24EB",
    "collapsed": true,
    "scrolled": false
   },
   "outputs": [
    {
     "data": {
      "text/plain": [
       "0           1\n1           0\n2           1\n3           0\n4           1\n5           0\n6           0\n7           1\n8           0\n9           0\n10          0\n11          0\n12          1\n13          0\n14          0\n15          0\n16          0\n17          0\n18          0\n19          0\n20          1\n21          1\n22          0\n23          0\n24          1\n25          0\n26          1\n27          0\n28          0\n29          0\n           ..\n99999970    0\n99999971    0\n99999972    1\n99999973    0\n99999974    1\n99999975    0\n99999976    1\n99999977    1\n99999978    0\n99999979    1\n99999980    0\n99999981    0\n99999982    0\n99999983    0\n99999984    0\n99999985    0\n99999986    1\n99999987    0\n99999988    0\n99999989    0\n99999990    1\n99999991    1\n99999992    0\n99999993    0\n99999994    0\n99999995    0\n99999996    0\n99999997    0\n99999998    1\n99999999    0\nName: lanel, Length: 100000000, dtype: int64"
      ]
     },
     "execution_count": 11,
     "metadata": {},
     "output_type": "execute_result"
    }
   ],
   "source": [
    "y"
   ]
  },
  {
   "cell_type": "code",
   "execution_count": 4,
   "metadata": {
    "id": "98C8E6EDE6A142E884F7025DF294A4EC",
    "collapsed": false
   },
   "outputs": [
    {
     "name": "stderr",
     "output_type": "stream",
     "text": [
      "/opt/conda/lib/python3.6/site-packages/sklearn/ensemble/forest.py:245: FutureWarning: The default value of n_estimators will change from 10 in version 0.20 to 100 in 0.22.\n  \"10 in version 0.20 to 100 in 0.22.\", FutureWarning)\n/opt/conda/lib/python3.6/site-packages/sklearn/ensemble/forest.py:245: FutureWarning: The default value of n_estimators will change from 10 in version 0.20 to 100 in 0.22.\n  \"10 in version 0.20 to 100 in 0.22.\", FutureWarning)\n/opt/conda/lib/python3.6/site-packages/sklearn/ensemble/forest.py:245: FutureWarning: The default value of n_estimators will change from 10 in version 0.20 to 100 in 0.22.\n  \"10 in version 0.20 to 100 in 0.22.\", FutureWarning)\n/opt/conda/lib/python3.6/site-packages/sklearn/ensemble/forest.py:245: FutureWarning: The default value of n_estimators will change from 10 in version 0.20 to 100 in 0.22.\n  \"10 in version 0.20 to 100 in 0.22.\", FutureWarning)\n/opt/conda/lib/python3.6/site-packages/sklearn/ensemble/forest.py:245: FutureWarning: The default value of n_estimators will change from 10 in version 0.20 to 100 in 0.22.\n  \"10 in version 0.20 to 100 in 0.22.\", FutureWarning)\n/opt/conda/lib/python3.6/site-packages/sklearn/ensemble/forest.py:245: FutureWarning: The default value of n_estimators will change from 10 in version 0.20 to 100 in 0.22.\n  \"10 in version 0.20 to 100 in 0.22.\", FutureWarning)\n/opt/conda/lib/python3.6/site-packages/sklearn/ensemble/forest.py:245: FutureWarning: The default value of n_estimators will change from 10 in version 0.20 to 100 in 0.22.\n  \"10 in version 0.20 to 100 in 0.22.\", FutureWarning)\n/opt/conda/lib/python3.6/site-packages/sklearn/ensemble/forest.py:245: FutureWarning: The default value of n_estimators will change from 10 in version 0.20 to 100 in 0.22.\n  \"10 in version 0.20 to 100 in 0.22.\", FutureWarning)\n/opt/conda/lib/python3.6/site-packages/sklearn/ensemble/forest.py:245: FutureWarning: The default value of n_estimators will change from 10 in version 0.20 to 100 in 0.22.\n  \"10 in version 0.20 to 100 in 0.22.\", FutureWarning)\n/opt/conda/lib/python3.6/site-packages/sklearn/ensemble/forest.py:245: FutureWarning: The default value of n_estimators will change from 10 in version 0.20 to 100 in 0.22.\n  \"10 in version 0.20 to 100 in 0.22.\", FutureWarning)\n/opt/conda/lib/python3.6/site-packages/sklearn/ensemble/forest.py:245: FutureWarning: The default value of n_estimators will change from 10 in version 0.20 to 100 in 0.22.\n  \"10 in version 0.20 to 100 in 0.22.\", FutureWarning)\n/opt/conda/lib/python3.6/site-packages/sklearn/ensemble/forest.py:245: FutureWarning: The default value of n_estimators will change from 10 in version 0.20 to 100 in 0.22.\n  \"10 in version 0.20 to 100 in 0.22.\", FutureWarning)\n/opt/conda/lib/python3.6/site-packages/sklearn/ensemble/forest.py:245: FutureWarning: The default value of n_estimators will change from 10 in version 0.20 to 100 in 0.22.\n  \"10 in version 0.20 to 100 in 0.22.\", FutureWarning)\n"
     ]
    },
    {
     "name": "stdout",
     "output_type": "stream",
     "text": [
      "随机森林准确率:0.7523885\n"
     ]
    },
    {
     "ename": "NameError",
     "evalue": "name 'predictions' is not defined",
     "traceback": [
      "\u001b[0;31m---------------------------------------------------------------------------\u001b[0m",
      "\u001b[0;31mNameError\u001b[0m                                 Traceback (most recent call last)",
      "\u001b[0;32m<ipython-input-4-86a453f2c975>\u001b[0m in \u001b[0;36m<module>\u001b[0;34m\u001b[0m\n\u001b[1;32m     13\u001b[0m \u001b[0mprint\u001b[0m\u001b[0;34m(\u001b[0m\u001b[0;34m\"随机森林准确率\"\u001b[0m\u001b[0;34m,\u001b[0m\u001b[0mend\u001b[0m\u001b[0;34m=\u001b[0m\u001b[0;34m\":\"\u001b[0m\u001b[0;34m)\u001b[0m\u001b[0;34m\u001b[0m\u001b[0m\n\u001b[1;32m     14\u001b[0m \u001b[0mprint\u001b[0m\u001b[0;34m(\u001b[0m\u001b[0mrc_dg\u001b[0m\u001b[0;34m.\u001b[0m\u001b[0mscore\u001b[0m\u001b[0;34m(\u001b[0m\u001b[0mtest_x\u001b[0m\u001b[0;34m,\u001b[0m\u001b[0mtest_y\u001b[0m\u001b[0;34m)\u001b[0m\u001b[0;34m)\u001b[0m\u001b[0;34m\u001b[0m\u001b[0m\n\u001b[0;32m---> 15\u001b[0;31m \u001b[0mtest_auc\u001b[0m\u001b[0;34m=\u001b[0m\u001b[0mmetrics\u001b[0m\u001b[0;34m.\u001b[0m\u001b[0mroc_auc_score\u001b[0m\u001b[0;34m(\u001b[0m\u001b[0mtest_y\u001b[0m\u001b[0;34m,\u001b[0m\u001b[0mpredictions\u001b[0m\u001b[0;34m[\u001b[0m\u001b[0;34m:\u001b[0m\u001b[0;34m,\u001b[0m\u001b[0;36m1\u001b[0m\u001b[0;34m]\u001b[0m\u001b[0;34m)\u001b[0m\u001b[0;34m\u001b[0m\u001b[0m\n\u001b[0m\u001b[1;32m     16\u001b[0m \u001b[0mprint\u001b[0m\u001b[0;34m(\u001b[0m\u001b[0mtest_auc\u001b[0m\u001b[0;34m)\u001b[0m\u001b[0;34m\u001b[0m\u001b[0m\n",
      "\u001b[0;31mNameError\u001b[0m: name 'predictions' is not defined"
     ],
     "output_type": "error"
    }
   ],
   "source": [
    "from sklearn.model_selection import train_test_split\r\n",
    "from sklearn.datasets import  make_classification\r\n",
    "from sklearn.ensemble import RandomForestClassifier\r\n",
    "from sklearn.model_selection import GridSearchCV\r\n",
    "from sklearn import metrics\r\n",
    "train_x,test_x,train_y,test_y=train_test_split(submission.values[:20000000],y[:20000000],test_size=0.1,random_state=1)\r\n",
    "submission=1\r\n",
    "rc=RandomForestClassifier( max_depth=20,min_samples_split=10,random_state=0)\r\n",
    "param_dic={\"max_depth\":[15,20,25]}\r\n",
    "rc_dg=GridSearchCV(rc,param_grid=param_dic,cv=4)\r\n",
    "rc_dg.fit(train_x,train_y)\r\n",
    "predictions_rc = rc_dg.predict_proba(test_x)\r\n",
    "print(\"随机森林准确率\",end=\":\")\r\n",
    "print(rc_dg.score(test_x,test_y))\r\n",
    "test_auc=metrics.roc_auc_score(test_y,predictions[:,1])\r\n",
    "print(test_auc)"
   ]
  },
  {
   "cell_type": "code",
   "execution_count": 5,
   "metadata": {
    "id": "B8BE24C3BAC34AE4852B13712F5F45BE",
    "collapsed": false,
    "scrolled": false
   },
   "outputs": [
    {
     "name": "stdout",
     "output_type": "stream",
     "text": [
      "0.5611976564797005\n"
     ]
    }
   ],
   "source": [
    "test_auc=metrics.roc_auc_score(test_y,predictions_rc[:,1])\r\n",
    "print(test_auc)"
   ]
  },
  {
   "cell_type": "code",
   "execution_count": 6,
   "metadata": {
    "id": "0493D921617247EF99AE83AACA8CE1DB",
    "collapsed": false,
    "scrolled": false
   },
   "outputs": [
    {
     "name": "stderr",
     "output_type": "stream",
     "text": [
      "/opt/conda/lib/python3.6/site-packages/sklearn/linear_model/logistic.py:432: FutureWarning: Default solver will be changed to 'lbfgs' in 0.22. Specify a solver to silence this warning.\n  FutureWarning)\n"
     ]
    },
    {
     "name": "stdout",
     "output_type": "stream",
     "text": [
      "逻辑回归：:0.7491042\n0.6175455492463431\n"
     ]
    }
   ],
   "source": [
    "from sklearn.linear_model import LogisticRegression\n",
    "from sklearn.model_selection import train_test_split\n",
    "from sklearn.model_selection import GridSearchCV\n",
    "from sklearn import metrics\n",
    "#submission=pd.read_csv(\"train_new1.csv\")\n",
    "train_x,test_x,train_y,test_y=train_test_split(submission.values[:50000000],y[:50000000],test_size=0.1,random_state=1)\n",
    "submission=1\n",
    "rc_dg=LogisticRegression()\n",
    "#param_dic={}\n",
    "#rc_dg=GridSearchCV(rc,param_grid=param_dic,cv=4)\n",
    "rc_dg.fit(train_x,train_y)\n",
    "predictions_rc = rc_dg.predict_proba(test_x)\n",
    "print(\"逻辑回归：\",end=\":\")\n",
    "print(rc_dg.score(test_x,test_y))\n",
    "test_auc=metrics.roc_auc_score(test_y,predictions_rc[:,1])\n",
    "print(test_auc)"
   ]
  },
  {
   "cell_type": "code",
   "execution_count": 5,
   "metadata": {
    "id": "2EA3650BF9314D8DBFFBB5308C7712F4",
    "collapsed": false,
    "scrolled": false
   },
   "outputs": [
    {
     "name": "stderr",
     "output_type": "stream",
     "text": [
      "/opt/conda/lib/python3.6/site-packages/sklearn/linear_model/logistic.py:432: FutureWarning: Default solver will be changed to 'lbfgs' in 0.22. Specify a solver to silence this warning.\n  FutureWarning)\n"
     ]
    },
    {
     "data": {
      "text/plain": [
       "LogisticRegression(C=1.0, class_weight=None, dual=False, fit_intercept=True,\n                   intercept_scaling=1, l1_ratio=None, max_iter=100,\n                   multi_class='warn', n_jobs=None, penalty='l2',\n                   random_state=None, solver='warn', tol=0.0001, verbose=0,\n                   warm_start=False)"
      ]
     },
     "execution_count": 5,
     "metadata": {},
     "output_type": "execute_result"
    }
   ],
   "source": [
    "from sklearn.linear_model import LogisticRegression\n",
    "#train_x,test_x,train_y,test_y=train_test_split(submission.values[:90000000],y[:90000000],test_size=0.1,random_state=22)\n",
    "#submission=1\n",
    "rc_dg1=LogisticRegression()\n",
    "#param_dic={}\n",
    "#rc_dg=GridSearchCV(rc,param_grid=param_dic,cv=4)\n",
    "x=submission.values[60000000:]\n",
    "submisssion=1\n",
    "rc_dg1.fit(x,y[60000000:])\n",
    "#rc_dg1.fit(submission.values[30000000:],y[30000000:])\n",
    "#predictions_rc = rc_dg1.predict_proba(test_x)\n",
    "#print(\"逻辑回归：\",end=\":\")\n",
    "#print(rc_dg.score(test_x,test_y))\n",
    "#test_auc=metrics.roc_auc_score(test_y,predictions_rc[:,1])\n",
    "#print(test_auc)"
   ]
  },
  {
   "cell_type": "code",
   "execution_count": null,
   "metadata": {
    "id": "F8BF9CAC7C604E5598E934E1C32298BC"
   },
   "outputs": [],
   "source": [
    "submission=pd.read_csv(\"train_new1.csv\")\n",
    "train_x,test_x,train_y,test_y=train_test_split(submission.values[:50000000],y[:50000000],test_size=0.1\n",
    ",random_state=1)\n",
    "submission=1\n",
    "rc_dg=LogisticRegression()\n",
    "#param_dic={}\n",
    "#rc_dg=GridSearchCV(rc,param_grid=param_dic,cv=4)\n",
    "rc_dg.fit(train_x,train_y)\n",
    "predictions_rc = rc_dg.predict_proba(test_x)\n",
    "print(\"逻辑回归：\",end=\":\")\n",
    "print(rc_dg.score(test_x,test_y))\n",
    "test_auc=metrics.roc_auc_score(test_y,predictions_rc[:,1])\n",
    "print(test_auc)"
   ]
  },
  {
   "cell_type": "code",
   "execution_count": null,
   "metadata": {
    "id": "F49E016434544F0FBD2F1762987849A1"
   },
   "outputs": [],
   "source": [
    "submission=pd.read_csv(\"train_new1.csv\")\n",
    "train_x,test_x,train_y,test_y=train_test_split(submission.values[:50000000],y[:50000000],test_size=0.1,random_state=1)\n",
    "submission=1\n",
    "rc_dg=LogisticRegression()\n",
    "#param_dic={}\n",
    "#rc_dg=GridSearchCV(rc,param_grid=param_dic,cv=4)\n",
    "rc_dg.fit(train_x,train_y)\n",
    "predictions_rc = rc_dg.predict_proba(test_x)\n",
    "print(\"逻辑回归：\",end=\":\")\n",
    "print(rc_dg.score(test_x,test_y))\n",
    "test_auc=metrics.roc_auc_score(test_y,predictions_rc[:,1])\n",
    "print(test_auc)"
   ]
  },
  {
   "cell_type": "code",
   "execution_count": null,
   "metadata": {
    "id": "FE162C8708084BC58309CCA3363009F8"
   },
   "outputs": [],
   "source": [
    "submission=pd.read_csv(\"train_new1.csv\")\n",
    "train_x,test_x,train_y,test_y=train_test_split(submission.values[:50000000],y[:50000000],test_size=0.1,random_state=1)\n",
    "submission=1\n",
    "rc_dg=LogisticRegression()\n",
    "#param_dic={}\n",
    "#rc_dg=GridSearchCV(rc,param_grid=param_dic,cv=4)\n",
    "rc_dg.fit(train_x,train_y)\n",
    "predictions_rc = rc_dg.predict_proba(test_x)\n",
    "print(\"逻辑回归：\",end=\":\")\n",
    "print(rc_dg.score(test_x,test_y))\n",
    "test_auc=metrics.roc_auc_score(test_y,predictions_rc[:,1])\n",
    "print(test_auc)"
   ]
  },
  {
   "cell_type": "code",
   "execution_count": 7,
   "metadata": {
    "id": "5BEBF5A0F5404F5B829C58E266537CE9",
    "collapsed": false,
    "scrolled": false
   },
   "outputs": [
    {
     "name": "stdout",
     "output_type": "stream",
     "text": [
      "0.5563514085776045\n"
     ]
    }
   ],
   "source": [
    "from sklearn import metrics\n",
    "test_auc=metrics.roc_auc_score(test_y,predictions_rc[:,1])\n",
    "print(test_auc)"
   ]
  },
  {
   "cell_type": "code",
   "execution_count": 10,
   "metadata": {
    "id": "87276AEE65D64D93AEB87EDA47502BF9",
    "collapsed": false,
    "scrolled": false
   },
   "outputs": [
    {
     "ename": "TypeError",
     "evalue": "'DataFrame' object is not callable",
     "traceback": [
      "\u001b[0;31m---------------------------------------------------------------------------\u001b[0m",
      "\u001b[0;31mTypeError\u001b[0m                                 Traceback (most recent call last)",
      "\u001b[0;32m<ipython-input-10-13f92abb4a00>\u001b[0m in \u001b[0;36m<module>\u001b[0;34m\u001b[0m\n\u001b[1;32m      1\u001b[0m data_test=pd.read_csv('/home/kesci/input/bytedance/first-round/test.csv',header=None,\n\u001b[1;32m      2\u001b[0m                             names=[\"query_id\",\"query\",\"query_title_id\",\"title\",\"lanel\"])\n\u001b[0;32m----> 3\u001b[0;31m \u001b[0mdata_test\u001b[0m\u001b[0;34m(\u001b[0m\u001b[0;36m10\u001b[0m\u001b[0;34m)\u001b[0m\u001b[0;34m\u001b[0m\u001b[0m\n\u001b[0m",
      "\u001b[0;31mTypeError\u001b[0m: 'DataFrame' object is not callable"
     ],
     "output_type": "error"
    }
   ],
   "source": [
    "data_test=pd.read_csv('/home/kesci/input/bytedance/first-round/test.csv',header=None,\n",
    "                            names=[\"query_id\",\"query\",\"query_title_id\",\"title\",\"lanel\"])\n",
    "data_test(10)"
   ]
  },
  {
   "cell_type": "code",
   "execution_count": null,
   "metadata": {
    "id": "A0944B92EF6E4C7798821623C69917A4",
    "collapsed": false,
    "scrolled": false
   },
   "outputs": [],
   "source": [
    "prediction=rc_dg1.predict_proba(submission_test)"
   ]
  },
  {
   "cell_type": "code",
   "execution_count": 7,
   "metadata": {
    "id": "ECB74A21E2474DC992589A20A6722EFB",
    "collapsed": false,
    "scrolled": false
   },
   "outputs": [
    {
     "ename": "AttributeError",
     "evalue": "'int' object has no attribute 'values'",
     "traceback": [
      "\u001b[0;31m---------------------------------------------------------------------------\u001b[0m",
      "\u001b[0;31mAttributeError\u001b[0m                            Traceback (most recent call last)",
      "\u001b[0;32m<ipython-input-7-452975157be5>\u001b[0m in \u001b[0;36m<module>\u001b[0;34m\u001b[0m\n\u001b[1;32m      7\u001b[0m \u001b[0mrc\u001b[0m\u001b[0;34m=\u001b[0m\u001b[0mRandomForestClassifier\u001b[0m\u001b[0;34m(\u001b[0m\u001b[0mmax_depth\u001b[0m\u001b[0;34m=\u001b[0m\u001b[0;36m15\u001b[0m\u001b[0;34m,\u001b[0m\u001b[0mrandom_state\u001b[0m\u001b[0;34m=\u001b[0m\u001b[0;36m0\u001b[0m\u001b[0;34m)\u001b[0m\u001b[0;34m\u001b[0m\u001b[0m\n\u001b[1;32m      8\u001b[0m \u001b[0;34m\u001b[0m\u001b[0m\n\u001b[0;32m----> 9\u001b[0;31m \u001b[0mrc\u001b[0m\u001b[0;34m.\u001b[0m\u001b[0mfit\u001b[0m\u001b[0;34m(\u001b[0m\u001b[0msubmission\u001b[0m\u001b[0;34m.\u001b[0m\u001b[0mvalues\u001b[0m\u001b[0;34m,\u001b[0m\u001b[0my\u001b[0m\u001b[0;34m.\u001b[0m\u001b[0mastype\u001b[0m\u001b[0;34m(\u001b[0m\u001b[0;34m\"int\"\u001b[0m\u001b[0;34m)\u001b[0m\u001b[0;34m)\u001b[0m\u001b[0;34m\u001b[0m\u001b[0m\n\u001b[0m\u001b[1;32m     10\u001b[0m \u001b[0mprediction\u001b[0m\u001b[0;34m=\u001b[0m\u001b[0mrc\u001b[0m\u001b[0;34m.\u001b[0m\u001b[0mpredict_proba\u001b[0m\u001b[0;34m(\u001b[0m\u001b[0msubmission_test\u001b[0m\u001b[0;34m.\u001b[0m\u001b[0mvalues\u001b[0m\u001b[0;34m)\u001b[0m\u001b[0;34m\u001b[0m\u001b[0m\n\u001b[1;32m     11\u001b[0m \u001b[0;34m\u001b[0m\u001b[0m\n",
      "\u001b[0;31mAttributeError\u001b[0m: 'int' object has no attribute 'values'"
     ],
     "output_type": "error"
    }
   ],
   "source": [
    "from sklearn.model_selection import train_test_split\r\n",
    "from sklearn.datasets import  make_classification\r\n",
    "from sklearn.ensemble import RandomForestClassifier\r\n",
    "from sklearn.model_selection import cross_val_score\r\n",
    "\r\n",
    "\r\n",
    "rc=RandomForestClassifier(max_depth=15,random_state=0)\r\n",
    "\r\n",
    "rc.fit(submission.values,y.astype(\"int\"))\r\n",
    "prediction=rc.predict_proba(submission_test.values)"
   ]
  },
  {
   "cell_type": "code",
   "execution_count": 13,
   "metadata": {
    "id": "96B15B701A4C4CB6A076256D37F7934E",
    "collapsed": false,
    "scrolled": false
   },
   "outputs": [
    {
     "data": {
      "text/plain": [
       "1"
      ]
     },
     "execution_count": 13,
     "metadata": {},
     "output_type": "execute_result"
    }
   ],
   "source": [
    ""
   ]
  },
  {
   "cell_type": "code",
   "execution_count": 18,
   "metadata": {
    "id": "34FBE934A4914C59803F853C428E5289",
    "collapsed": false,
    "scrolled": false
   },
   "outputs": [
    {
     "name": "stdout",
     "output_type": "stream",
     "text": [
      "随机森林准确率:0.7155325\n"
     ]
    },
    {
     "ename": "NameError",
     "evalue": "name 'predictions' is not defined",
     "traceback": [
      "\u001b[0;31m---------------------------------------------------------------------------\u001b[0m",
      "\u001b[0;31mNameError\u001b[0m                                 Traceback (most recent call last)",
      "\u001b[0;32m<ipython-input-18-01ba0f9fa7b7>\u001b[0m in \u001b[0;36m<module>\u001b[0;34m\u001b[0m\n\u001b[1;32m     12\u001b[0m \u001b[0mprint\u001b[0m\u001b[0;34m(\u001b[0m\u001b[0;34m\"随机森林准确率\"\u001b[0m\u001b[0;34m,\u001b[0m\u001b[0mend\u001b[0m\u001b[0;34m=\u001b[0m\u001b[0;34m\":\"\u001b[0m\u001b[0;34m)\u001b[0m\u001b[0;34m\u001b[0m\u001b[0m\n\u001b[1;32m     13\u001b[0m \u001b[0mprint\u001b[0m\u001b[0;34m(\u001b[0m\u001b[0mrc_dg\u001b[0m\u001b[0;34m.\u001b[0m\u001b[0mscore\u001b[0m\u001b[0;34m(\u001b[0m\u001b[0mtest_x\u001b[0m\u001b[0;34m,\u001b[0m\u001b[0mtest_y\u001b[0m\u001b[0;34m)\u001b[0m\u001b[0;34m)\u001b[0m\u001b[0;34m\u001b[0m\u001b[0m\n\u001b[0;32m---> 14\u001b[0;31m \u001b[0mtest_auc\u001b[0m\u001b[0;34m=\u001b[0m\u001b[0mmetrics\u001b[0m\u001b[0;34m.\u001b[0m\u001b[0mroc_auc_score\u001b[0m\u001b[0;34m(\u001b[0m\u001b[0mtest_y\u001b[0m\u001b[0;34m,\u001b[0m\u001b[0mpredictions\u001b[0m\u001b[0;34m[\u001b[0m\u001b[0;34m:\u001b[0m\u001b[0;34m,\u001b[0m\u001b[0;36m1\u001b[0m\u001b[0;34m]\u001b[0m\u001b[0;34m)\u001b[0m\u001b[0;34m\u001b[0m\u001b[0m\n\u001b[0m\u001b[1;32m     15\u001b[0m \u001b[0mprint\u001b[0m\u001b[0;34m(\u001b[0m\u001b[0mtest_auc\u001b[0m\u001b[0;34m)\u001b[0m\u001b[0;34m\u001b[0m\u001b[0m\n",
      "\u001b[0;31mNameError\u001b[0m: name 'predictions' is not defined"
     ],
     "output_type": "error"
    }
   ],
   "source": [
    "from sklearn.naive_bayes import MultinomialNB\n",
    "from sklearn.model_selection import train_test_split\n",
    "from sklearn.model_selection import GridSearchCV\n",
    "from sklearn import metrics\n",
    "train_x,test_x,train_y,test_y=train_test_split(submission.values,y,test_size=0.1,random_state=15)\n",
    "\n",
    "nb=MultinomialNB()\n",
    "param_dic={}\n",
    "rc_dg=GridSearchCV(nb,param_grid=param_dic,cv=5)\n",
    "rc_dg.fit(train_x,train_y)\n",
    "predictions_rc = rc_dg.predict_proba(test_x)\n",
    "print(\"随机森林准确率\",end=\":\")\n",
    "print(rc_dg.score(test_x,test_y))\n",
    "test_auc=metrics.roc_auc_score(test_y,predictions[:,1])\n",
    "print(test_auc)"
   ]
  },
  {
   "cell_type": "code",
   "execution_count": 7,
   "metadata": {
    "id": "B1CC46248C9E45668AF96A105F3E4AF4",
    "collapsed": false,
    "scrolled": false
   },
   "outputs": [
    {
     "name": "stdout",
     "output_type": "stream",
     "text": [
      "1\n"
     ]
    }
   ],
   "source": [
    "print(1)"
   ]
  },
  {
   "cell_type": "code",
   "execution_count": 7,
   "metadata": {
    "id": "788A2F98E9254A7299EF02D3DCA5A368",
    "collapsed": false,
    "scrolled": false
   },
   "outputs": [],
   "source": [
    "prediction=rc_dg.predict_proba(submission_test)"
   ]
  },
  {
   "cell_type": "code",
   "execution_count": 8,
   "metadata": {
    "id": "024858C44A0E4E2689657BFD89484AAE",
    "collapsed": false,
    "scrolled": false,
    "hide_input": false
   },
   "outputs": [
    {
     "name": "stdout",
     "output_type": "stream",
     "text": [
      "Kesci Submit Tool\nResult File: my_submission_6_4.csv (135.67 MiB)\nUploaded.       \n====================\nSubmit Success.\n{\"Stage\":0,\"Status\":0,\"ShownInHistory\":true,\"IsAucResult\":true,\"Selected\":false,\"_id\":\"5cff1f029b4798002ba30442\",\"Competition\":\"5cc51043f71088002c5b8840\",\"Team\":\"5cea7398801821002cd25626\",\"UploadDate\":\"2019-06-11T03:24:50.778Z\",\"Final\":true,\"Response\":\"\",\"SubmissionResults\":[],\"IP\":\"52.82.108.66\",\"FingerPrint\":\"\",\"UserAgent\":\"Go-http-client/1.1\",\"ResultFileName\":\"15602234775558d28c8.csv\",\"ResultFileRealName\":\"my_submission_6_4.csv\",\"ResultFileSize\":0,\"ReviewInfos\":[],\"__v\":0}\n\n"
     ]
    }
   ],
   "source": [
    "prediction_new=list(prediction[:,1])\n",
    "test=pd.read_csv('/home/kesci/input/bytedance/first-round/test.csv',header=None,\n",
    "                            names=[\"query_id\",\"query\",\"query_title_id\",\"title\",\"lanel\"])\n",
    "submission_1 = pd.DataFrame({ 'query_id':test[\"query_id\"],'query_title_id':test['query_title_id'],'prediction':prediction_new})\n",
    "submission_1.to_csv(\"my_submission_6_4.csv\", index=False,header=None)\n",
    "!./kesci_submit -token 0d45449d1866b2f4 -file my_submission_6_4.csv"
   ]
  },
  {
   "cell_type": "code",
   "execution_count": 11,
   "metadata": {
    "id": "3FC65FD3AA4C47968CCEB0F70B41A179",
    "collapsed": true,
    "scrolled": false
   },
   "outputs": [
    {
     "data": {
      "text/plain": [
       "[0.29884196004628183,\n 0.3307032648366075,\n 0.2781931224877674,\n 0.3217096540444778,\n 0.32884391270036495,\n 0.2881244549630711,\n 0.289882943543158,\n 0.20722473851336826,\n 0.2381860859131371,\n 0.1935432222507366,\n 0.308360924977986,\n 0.30086717623278164,\n 0.25843559355456536,\n 0.28405601259617813,\n 0.20679767449356568,\n 0.33651252616206084,\n 0.3126373717319242,\n 0.29884196004628183,\n 0.2636411782888962,\n 0.2800292529435831,\n 0.2510660632105377,\n 0.26896229201628336,\n 0.2553818720789486,\n 0.26366217281550747,\n 0.27327291804737763,\n 0.3082001502332064,\n 0.28350837151773794,\n 0.3066008527814887,\n 0.29177489654767047,\n 0.29370700519332876,\n 0.25055002198502435,\n 0.28567424522098706,\n 0.248269173431744,\n 0.22342126230352438,\n 0.2186606101892268,\n 0.2957974810061708,\n 0.2625000054270186,\n 0.2844801806662108,\n 0.2805143718615936,\n 0.31214236677324314,\n 0.29471438690152324,\n 0.31221502405468005,\n 0.2443193858357453,\n 0.24010538649322288,\n 0.2868570910100489,\n 0.2734290051800746,\n 0.3171192081109913,\n 0.276843219003759,\n 0.31725694239263386,\n 0.29825900350949314,\n 0.3565836620142006,\n 0.37184316816885876,\n 0.3725977846274318,\n 0.31028737415658725,\n 0.35393181175217064,\n 0.2959130888008213,\n 0.2780911938228851,\n 0.2756013670126812,\n 0.21259137862956157,\n 0.26323943358152285,\n 0.28923311550119235,\n 0.29501252224102986,\n 0.2733532053773966,\n 0.3305854815803753,\n 0.32196136097611494,\n 0.2930667863828647,\n 0.3070636671384281,\n 0.1954791865726239,\n 0.2700130124358755,\n 0.2999073692685875,\n 0.280870851279696,\n 0.2492411463369726,\n 0.2405191576852639,\n 0.22066434784376096,\n 0.20569064965862494,\n 0.26255894873257785,\n 0.28040080354101454,\n 0.32061953148467415,\n 0.2653357285369906,\n 0.301547714183108,\n 0.27907516718283165,\n 0.3305854815803753,\n 0.32792819774093024,\n 0.25945203315130466,\n 0.29431704769176464,\n 0.27908583643675067,\n 0.2296496355628595,\n 0.21896197578552015,\n 0.2039347751038829,\n 0.19195608649516238,\n 0.18663817797797944,\n 0.1757095436388041,\n 0.15334583260132054,\n 0.1429001108137944,\n 0.3239513045276821,\n 0.2743866582143977,\n 0.2911785520290279,\n 0.24569429868013662,\n 0.26244490201223003,\n 0.1409681556416617,\n 0.22937789981576895,\n 0.21218014653357167,\n 0.20675279012406436,\n 0.19350051289818465,\n 0.1818454379017269,\n 0.15678484314912042,\n 0.16895561927900676,\n 0.3105780035637281,\n 0.29313001891769425,\n 0.2861974378732774,\n 0.30652092762050853,\n 0.29734719050835984,\n 0.26228140876337097,\n 0.3131592977033362,\n 0.28806823021932326,\n 0.3210713515413332,\n 0.23695872442404478,\n 0.2580134327451188,\n 0.28606131185183414,\n 0.2883542678949056,\n 0.28507649995867707,\n 0.3216484170116427,\n 0.3388440603840272,\n 0.31875530191055695,\n 0.30278438623092147,\n 0.2839154300267651,\n 0.197800710207121,\n 0.20332611237219098,\n 0.22417413857138452,\n 0.25664474320654435,\n 0.17282724042955008,\n 0.27436476974845897,\n 0.0779997205588655,\n 0.07179316864594741,\n 0.1828365482007511,\n 0.25428630797043467,\n 0.158354262316377,\n 0.1072540152761915,\n 0.13841770430506914,\n 0.13045189212208375,\n 0.1205944330187967,\n 0.11208434581141807,\n 0.0819733199095869,\n 0.09021363600980917,\n 0.09900934938987521,\n 0.1485925753516794,\n 0.1069043279147505,\n 0.1378001335755993,\n 0.08417278435637687,\n 0.09078033276298567,\n 0.14632432020460434,\n 0.15783507089974977,\n 0.15668130161313526,\n 0.1937243831382133,\n 0.19826489342278708,\n 0.10294421262782714,\n 0.21749885947437456,\n 0.23637701718625098,\n 0.2469998412834679,\n 0.26404435184298064,\n 0.3025659207416632,\n 0.07594615278222465,\n 0.12682255880785953,\n 0.17715107439485425,\n 0.11927572193118126,\n 0.2824287011123772,\n 0.3262267135646719,\n 0.33026823813702966,\n 0.32792819774093024,\n 0.29078380668679743,\n 0.32761225634449137,\n 0.3461077600304471,\n 0.27907516718283165,\n 0.27824680194073803,\n 0.2541013907946845,\n 0.32061953148467415,\n 0.30119402430236436,\n 0.2603651598827401,\n 0.2800292529435831,\n 0.5519548395956266,\n 0.45687830372591415,\n 0.5195845240797555,\n 0.349647880417958,\n 0.3423453587013938,\n 0.31609737184992887,\n 0.2882387954381188,\n 0.29487077681414775,\n 0.259051390828933,\n 0.24005295215876563,\n 0.22527238407979452,\n 0.3045062430931595,\n 0.28570631808559976,\n 0.2678491474760244,\n 0.25072654267945876,\n 0.2331379131044548,\n 0.3327262134021557,\n 0.2834731540411812,\n 0.31647771648911177,\n 0.384536933289946,\n 0.3466397495129824,\n 0.34837850237992707,\n 0.35124617693443116,\n 0.38535679722591387,\n 0.3753505243204461,\n 0.3732509288998565,\n 0.31892532925982797,\n 0.3371763372613005,\n 0.3440018547181156,\n 0.2542027295407792,\n 0.26007984725334976,\n 0.2924055993252448,\n 0.307030094769248,\n 0.19299961084304068,\n 0.2145373187380834,\n 0.24010538649322288,\n 0.22282976489761835,\n 0.33651252616206084,\n 0.29571425988276495,\n 0.3039119782246571,\n 0.28842338315130933,\n 0.25553816698390097,\n 0.3040923200033747,\n 0.28584548675673227,\n 0.3036187472843104,\n 0.33633962409634516,\n 0.3992676325255345,\n 0.27347116549975375,\n 0.28223774813512376,\n 0.26576813628580276,\n 0.26847444168102264,\n 0.2485983628556921,\n 0.29797842148674203,\n 0.31558615434462484,\n 0.31562928705008175,\n 0.3529751881062092,\n 0.3425143523689052,\n 0.29932208010388967,\n 0.328560548160377,\n 0.3267132333978063,\n 0.32061953148467415,\n 0.28864860247670604,\n 0.2861974378732774,\n 0.2914667450408562,\n 0.2824287011123772,\n 0.24688372715667675,\n 0.29370700519332876,\n 0.2824287011123772,\n 0.25717822324801276,\n 0.36122577925613214,\n 0.33240344745296846,\n 0.33985459775414917,\n 0.3356270200092725,\n 0.2348332604526502,\n 0.2698079573487651,\n 0.26742752218618043,\n 0.32148983221276584,\n 0.3160056371178902,\n 0.35372885666321274,\n 0.2642621681096075,\n 0.27227429387909396,\n 0.3025659207416632,\n 0.27015323678396713,\n 0.2603176359857607,\n 0.30133148629262596,\n 0.36168143479914444,\n 0.32824335444970865,\n 0.2843797382632552,\n 0.30477209592368365,\n 0.26783177433420036,\n 0.2543404796482718,\n 0.2481044130090235,\n 0.20791689616052586,\n 0.22916837680799532,\n 0.2642621681096075,\n 0.27907516718283165,\n 0.22231294080703895,\n 0.23489360713934612,\n 0.22091103693277017,\n 0.3029017726693626,\n 0.2687973578555568,\n 0.23780239026544112,\n 0.2516543310580642,\n 0.29276079011277883,\n 0.2695699328742263,\n 0.2311887888080793,\n 0.2746722383587799,\n 0.2930577703529058,\n 0.21749885947437456,\n 0.2280277706401628,\n 0.25995485278442976,\n 0.31421022660378456,\n 0.31415548510518604,\n 0.34283733738364136,\n 0.3185829758830177,\n 0.31881078370589866,\n 0.2957170904718478,\n 0.37163039011015747,\n 0.2750469536631726,\n 0.32080968147494043,\n 0.3157040549338037,\n 0.3506191617106362,\n 0.3166630014060783,\n 0.31501014806052613,\n 0.27903472444071264,\n 0.26493900121549274,\n 0.2814592111486023,\n 0.27528429410590727,\n 0.30813781844061583,\n 0.2921090069008473,\n 0.18336540638192955,\n 0.2576743532812791,\n 0.24215452563436562,\n 0.2738294537462098,\n 0.29618771461319904,\n 0.22823124247501744,\n 0.21216618641158555,\n 0.1969433747634527,\n 0.3177476560363235,\n 0.3365357159833167,\n 0.24497894514391835,\n 0.39294989345831594,\n 0.3545770976921539,\n 0.3862748651443559,\n 0.37011801439595443,\n 0.33043465543374734,\n 0.33378411414796405,\n 0.2945258242062606,\n 0.28196078672921543,\n 0.26236011925050323,\n 0.24365963482109068,\n 0.22967603883601642,\n 0.19995989219088475,\n 0.19117274523823527,\n 0.1779044875227066,\n 0.16611408645956888,\n 0.15355148612874914,\n 0.14309412314105432,\n 0.1313805578683987,\n 0.21535334008419962,\n 0.11639260854142196,\n 0.09396867550700842,\n 0.10424503411345647,\n 0.10815666511234272,\n 0.09095199878118444,\n 0.1251357223526528,\n 0.08005927637793699,\n 0.2257184103421658,\n 0.2765368907726799,\n 0.31195604128743937,\n 0.23169275550690463,\n 0.25733127855896426,\n 0.2720569644387466,\n 0.2830153207883335,\n 0.29366128630963984,\n 0.2806296342205874,\n 0.2861974378732774,\n 0.27662609607688765,\n 0.32061953148467415,\n 0.3025592705307825,\n 0.3193783697818945,\n 0.37598757285459317,\n 0.32093724994007655,\n 0.3108324209637855,\n 0.2623986413707344,\n 0.306549737276634,\n 0.31796073482429765,\n 0.31221502405468005,\n 0.2764951865152506,\n 0.3105654154639837,\n 0.32196136097611494,\n 0.29950960511835334,\n 0.27737510242047514,\n 0.25500236591942677,\n 0.4051693420055112,\n 0.40360839551422056,\n 0.6942054075537771,\n 0.39214351645934165,\n 0.35151996054670365,\n 0.2943124198261376,\n 0.3090708751271873,\n 0.29616047035844784,\n 0.2557091223343421,\n 0.23780239026544112,\n 0.2706051493099204,\n 0.28570631808559976,\n 0.30758164678428096,\n 0.2531364558162946,\n 0.2981272368624803,\n 0.3125230183535665,\n 0.32884391270036495,\n 0.35676652014453414,\n 0.2676868406107403,\n 0.2979799204520734,\n 0.4027567218682208,\n 0.37285449108724383,\n 0.347906689817995,\n 0.33226669744075493,\n 0.3221729737724899,\n 0.3135925957291387,\n 0.28800364036844156,\n 0.31487119794109775,\n 0.2818032577350428,\n 0.37158978377346974,\n 0.3607474864006973,\n 0.3223332629821888,\n 0.33226669744075493,\n 0.3215289424451609,\n 0.33105897714637406,\n 0.31516840839643506,\n 0.3454743530503327,\n 0.3604947921419531,\n 0.31119238887559564,\n 0.29733835752233967,\n 0.24609753855973407,\n 0.2856613408974241,\n 0.2762576946792008,\n 0.2945387392907306,\n 0.27398358220247593,\n 0.3081291239275979,\n 0.26438417980321777,\n 0.24376173953469657,\n 0.26372044009263235,\n 0.29886208995512975,\n 0.19272400491021385,\n 0.24405474536778493,\n 0.21209440659077103,\n 0.19858546044306227,\n 0.25254942734563807,\n 0.31119238887559564,\n 0.2700130124358755,\n 0.15202378400101366,\n 0.14309412314105432,\n 0.1811165215188467,\n 0.18704126376006786,\n 0.20803502813993788,\n 0.2186606101892268,\n 0.1521556433125969,\n 0.3045062430931595,\n 0.21679830395265945,\n 0.2804479431199322,\n 0.23985286647660448,\n 0.3282756103995647,\n 0.34224877889781563,\n 0.4052055652932204,\n 0.3088713219173495,\n 0.3046546569779377,\n 0.2717058861707636,\n 0.25409244341332193,\n 0.23541799615633538,\n 0.24409718062442654,\n 0.30906652645687527,\n 0.26911018955917826,\n 0.27907516718283165,\n 0.2465762677032434,\n 0.30033293433537367,\n 0.2853649168541794,\n 0.27223062533436954,\n 0.3049742463964676,\n 0.28910791396467544,\n 0.2737065552033599,\n 0.31890545291958183,\n 0.2814356237633081,\n 0.27223062533436954,\n 0.307030094769248,\n 0.28829776204098323,\n 0.26399895788187855,\n 0.37360642840154085,\n 0.39813971043599117,\n 0.4156834136407727,\n 0.4305543659172797,\n 0.3614244029533991,\n 0.16060331234168956,\n 0.29622920896011873,\n 0.2865638473133608,\n 0.26569490890415076,\n 0.24616989582417068,\n 0.23498068156989574,\n 0.21400709398582676,\n 0.22567989304338013,\n 0.17753575284678125,\n 0.14975066130422685,\n 0.14015777294086715,\n 0.136709395886226,\n 0.12485186341481115,\n 0.11552910958180929,\n 0.10681752285297963,\n 0.20905844100909268,\n 0.2645276626549529,\n 0.2725579506377373,\n 0.30495850000623387,\n 0.3364007555366836,\n 0.3135925957291387,\n 0.32852752032616067,\n 0.313559374584686,\n 0.35800902233758464,\n 0.3543365533640363,\n 0.32089972832275876,\n 0.26818837550554664,\n 0.36122577925613214,\n 0.3510282280277466,\n 0.31609737184992887,\n 0.301527261780789,\n 0.28878425678905434,\n 0.27608756708901805,\n 0.2352665342695426,\n 0.2763660347707012,\n 0.30599150551557075,\n 0.29177489654767047,\n 0.33226669744075493,\n 0.2665216476796012,\n 0.2943461391318801,\n 0.2713345194372682,\n 0.19062938111111816,\n 0.20948148775371178,\n 0.24000624214686087,\n 0.19600340400457059,\n 0.29457358927018096,\n 0.25995485278442976,\n 0.25457358608977,\n 0.17608866020699693,\n 0.31264002648537714,\n 0.30285523623683264,\n 0.27267382596185014,\n 0.2803317247424184,\n 0.3146017547603867,\n 0.290614760716377,\n 0.26821789940103724,\n 0.27861694086769917,\n 0.30594529248377106,\n 0.23502571164691674,\n 0.22963915842260532,\n 0.25326538476152144,\n 0.3195485735875776,\n 0.32762172016110264,\n 0.27821722918774416,\n 0.223943421789492,\n 0.42107501708890455,\n 0.2432961940339834,\n 0.287945854928821,\n 0.2997028352875171,\n 0.2520124022270204,\n 0.27893427557146877,\n 0.34797422336540323,\n 0.3572851122296375,\n 0.38799456660231896,\n 0.34338078669084765,\n 0.2884918717047398,\n 0.3419010783669258,\n 0.18789386975334169,\n 0.16064842957039163,\n 0.2866707220322361,\n 0.34164864193094885,\n 0.22055230627657085,\n 0.24156498779428218,\n 0.26540901737087413,\n 0.17584223608181876,\n 0.24999611865393154,\n 0.19654618730332812,\n 0.367557210346472,\n 0.19617685782969596,\n 0.30884440370264327,\n 0.3095228293026239,\n 0.29472753145182373,\n 0.27781118774149194,\n 0.2755340407695768,\n 0.3450168521576175,\n 0.30876475496229566,\n 0.1937243831382133,\n 0.3060636199735819,\n 0.28570631808559976,\n 0.26911018955917826,\n 0.25457358608977,\n 0.23432626154076214,\n 0.22091103693277017,\n 0.2103524031789334,\n 0.2763429995970443,\n 0.29432445147979186,\n 0.31296992054202477,\n 0.3235664781522651,\n 0.25463139499860005,\n 0.29542416603419985,\n 0.29962289643679973,\n 0.3066008527814887,\n 0.28309368136792207,\n 0.2666024875932916,\n 0.30758164678428096,\n 0.2872572378311932,\n 0.3048466991663091,\n 0.28695822180593766,\n 0.323570082307868,\n 0.27236347965346724,\n 0.2574599808682521,\n 0.3033901388314428,\n 0.3200116573243008,\n 0.3022660573473342,\n 0.3285437006977195,\n 0.348106347343714,\n 0.27393550723665483,\n 0.3891399341231306,\n 0.3422605903191512,\n 0.3238688477677153,\n 0.29902518455152943,\n 0.27105111274019544,\n 0.2659520751930842,\n 0.18188019043338294,\n 0.2304174491044697,\n 0.25045726230939147,\n 0.216061483643855,\n 0.20518358045465387,\n 0.1936854568582469,\n 0.2830153207883335,\n 0.27926080250850416,\n 0.25056124904567323,\n 0.24021811728526443,\n 0.23585738538707632,\n 0.21219945873277893,\n 0.3423453587013938,\n 0.34051691315189153,\n 0.2954575549406974,\n 0.29294152937926127,\n 0.26498819370053883,\n 0.30949767408304124,\n 0.30624985579099057,\n 0.295722718330378,\n 0.26637569076976314,\n 0.2501016536388769,\n 0.27766260271490956,\n 0.3045062430931595,\n 0.21009203988615793,\n 0.22311970948164417,\n 0.23918034390071508,\n 0.2569343402330064,\n 0.34918729291110845,\n 0.3897544482037941,\n 0.41198309319079757,\n 0.3120904189544893,\n 0.4062427576973132,\n 0.18539761075124112,\n 0.3112021993217036,\n 0.20552609210937337,\n 0.2172481228640122,\n 0.36140639240591155,\n 0.1444701935058732,\n 0.15500992868904517,\n 0.3864328350505575,\n 0.16542378117100878,\n 0.17717559616673864,\n 0.25458284499274325,\n 0.2613815046867215,\n 0.35959551551259106,\n 0.39534300645830717,\n 0.3461580443597115,\n 0.2561785756235468,\n 0.284100837551242,\n 0.28895749131034354,\n 0.24847837003227827,\n 0.2762183544411563,\n 0.2911785520290279,\n 0.27227429387909396,\n 0.3013966898434109,\n 0.33377771125413125,\n 0.3174048019409377,\n 0.3090194627545309,\n 0.32061953148467415,\n 0.28405601259617813,\n 0.2910796068474347,\n 0.28997224076592387,\n 0.34662714286664453,\n 0.24093731660761095,\n 0.17515633735876185,\n 0.27539096810083297,\n 0.2725679913074672,\n 0.2483306106164493,\n 0.31292100029526565,\n 0.28263537473366956,\n 0.34404540118098265,\n 0.2760577236702484,\n 0.4004114764191843,\n 0.2782590364594269,\n 0.3262401715760028,\n 0.35079789716408905,\n 0.3192511847448555,\n 0.28751425672573266,\n 0.2643474737884736,\n 0.3516314434531003,\n 0.25784556789193785,\n 0.2597268130255125,\n 0.2533074772906057,\n 0.3226305268460133,\n 0.2217344945289308,\n 0.4367490058195019,\n 0.41649497032428123,\n 0.33875219933232137,\n 0.37061190848154374,\n 0.21949706733496666,\n 0.18479814799991987,\n 0.2330484175597452,\n 0.1916052099329249,\n 0.17910463010925426,\n 0.24616989582417068,\n 0.28034692576159,\n 0.29622920896011873,\n 0.26394707566746767,\n 0.20388438957514898,\n 0.28870368875599767,\n 0.32184942370286146,\n 0.3096050995414325,\n 0.3033487021700743,\n 0.2856613408974241,\n 0.28613829017705544,\n 0.21813120169905884,\n 0.2395825321620368,\n 0.25628941139999023,\n 0.2762694494248914,\n 0.2865638473133608,\n 0.3262970099705288,\n 0.2095523970950934,\n 0.3526789920042015,\n 0.3081433987697656,\n 0.31833217353722765,\n 0.3296342146122514,\n 0.21969305164141778,\n 0.33136927377950964,\n 0.29411864277219246,\n 0.2903357432623499,\n 0.23499065632003902,\n 0.2640088998855754,\n 0.2624059920711109,\n 0.2872572378311932,\n 0.16712093079220458,\n 0.1811165215188467,\n 0.20484217290749498,\n 0.2257184103421658,\n 0.2418253829376933,\n 0.248269173431744,\n 0.26404435184298064,\n 0.18337036154157846,\n 0.2914667450408562,\n 0.17548029703270457,\n 0.1306263100170998,\n 0.14292651707305976,\n 0.15500189301611794,\n 0.1610438035348132,\n 0.1677972925566715,\n 0.21746464845595587,\n 0.23499065632003902,\n 0.24310801816639327,\n 0.2679966547054205,\n 0.26722894116433465,\n 0.2847893048140039,\n 0.31240880113550307,\n 0.2849599386927105,\n 0.19162356709202352,\n 0.25402510469059997,\n 0.2683978143443744,\n 0.2813517729971705,\n 0.3156040724554162,\n 0.32943548436973424,\n 0.36957577717290047,\n 0.296376365616273,\n 0.2584778351669125,\n 0.2872572378311932,\n 0.29603692705589263,\n 0.337143955299483,\n 0.31889385680226223,\n 0.3254545436596733,\n 0.3446840942171027,\n 0.34596013907913153,\n 0.2894404645102162,\n 0.08715130429079672,\n 0.2055626841336002,\n 0.08010231019169643,\n 0.09925128805895139,\n 0.10828094628962433,\n 0.11539137853167726,\n 0.12294967121571412,\n 0.12657721999253227,\n 0.14243450245146608,\n 0.15129758416317443,\n 0.16334582605789802,\n 0.17498097226834117,\n 0.17982890582277972,\n 0.19236819033025082,\n 0.23985286647660448,\n 0.24909458352978617,\n 0.2788161479978442,\n 0.28606131185183414,\n 0.09006393488155029,\n 0.21941631427160538,\n 0.2999073692685875,\n 0.2853817268215425,\n 0.25995485278442976,\n 0.22733377596867121,\n 0.31828287620904283,\n 0.28869255884996153,\n 0.28555286310725847,\n 0.3195485735875776,\n 0.3611031999907805,\n 0.3782309806753826,\n 0.26185814973333765,\n 0.2984814503865831,\n 0.2781772606010341,\n 0.2491827724579956,\n 0.26550135835351324,\n 0.29427571235116884,\n 0.27737510242047514,\n 0.3417660948566862,\n 0.28777424803014773,\n 0.3455853756661019,\n 0.2658074514672295,\n 0.2900412400147652,\n 0.14474198966075716,\n 0.10158549159849195,\n 0.1733142922586656,\n 0.1735959496620054,\n 0.13044938626449598,\n 0.19834126525756254,\n 0.11045133953676874,\n 0.1317311358332799,\n 0.09427302276910032,\n 0.12307432903405412,\n 0.08104989542441669,\n 0.09823543467032339,\n 0.2003754159800889,\n 0.20592823411590236,\n 0.2349449024969407,\n 0.24613296118093367,\n 0.227366368042682,\n 0.0882996526043307,\n 0.24224136740276048,\n 0.2939455287696889,\n 0.30575516306958533,\n 0.328321925543628,\n 0.36162455290246087,\n 0.2653357285369906,\n 0.28149872047002783,\n 0.3012404157741719,\n 0.33345893040061164,\n 0.3020889481356645,\n 0.3298761307189203,\n 0.4004114764191843,\n 0.3565128866052582,\n 0.3424968803494411,\n 0.308136462520792,\n 0.27378969317921614,\n 0.2845954127455634,\n 0.24694742944486744,\n 0.25416510881296944,\n 0.2424489144271298,\n 0.21490615611765487,\n 0.20126386775905009,\n 0.37828449420600824,\n 0.22756499786156775,\n 0.2936241380013985,\n 0.28405601259617813,\n 0.26751984415123636,\n 0.3132566374493614,\n 0.2292171712121377,\n 0.2911773200387,\n 0.2727755770261725,\n 0.25924292773937385,\n 0.2516495170504586,\n 0.22777545781648625,\n 0.2820935560928985,\n 0.27027875006953606,\n 0.14681145647712437,\n 0.1707274858460844,\n 0.21531811669593168,\n 0.19423294898588106,\n 0.2345964283759716,\n 0.2896976740958136,\n 0.21129890172009488,\n 0.18159944395784355,\n 0.3235664781522651,\n 0.23502571164691674,\n 0.3038075758086203,\n 0.3472146738200136,\n 0.3435551276818001,\n 0.33316037691442835,\n 0.3019201276960103,\n 0.3225967982305795,\n 0.31180452130211617,\n 0.3221729737724899,\n 0.3658894019498189,\n 0.3013128216429294,\n 0.2869494630940696,\n 0.3152765256934143,\n 0.29105647938530155,\n 0.2958257278792279,\n 0.34781198101302135,\n 0.27455013855954563,\n 0.27960488472069345,\n 0.32395347228643406,\n 0.29510294977972096,\n 0.2975243642903394,\n 0.2788161479978442,\n 0.2974587122433864,\n 0.24688372715667675,\n 0.2034311844177822,\n 0.2090465458271519,\n 0.23063102329622576,\n 0.2456516993832445,\n 0.2541013907946845,\n 0.27011399313120865,\n 0.28895749131034354,\n 0.18786129622075226,\n 0.17168552811505305,\n 0.3060636199735819,\n 0.2659520751930842,\n 0.2872572378311932,\n 0.19053306136970477,\n 0.21377294967816302,\n 0.21739260987939496,\n 0.24569429868013662,\n 0.3037543216013099,\n 0.34404540118098265,\n 0.3301624198449832,\n 0.1916465748175023,\n 0.2241498106426527,\n 0.21949706733496666,\n 0.24979151589442922,\n 0.27499831886767967,\n 0.30415600435885853,\n 0.312948249275604,\n 0.27172946642082296,\n 0.30194372652447804,\n 0.2838066100733386,\n 0.2574063578463412,\n 0.253930981014064,\n 0.29427571235116884,\n 0.26917017423556683,\n 0.26244490201223003,\n 0.3334653302400917,\n 0.3014041242945971,\n 0.35867256915978046,\n 0.3167409662586877,\n 0.21895940656684548,\n 0.22935338343001066,\n 0.26289829564506006,\n 0.29702192593496823,\n 0.33892635409661187,\n 0.2456632176135692,\n 0.17322392889601262,\n 0.16895561927900676,\n 0.18057218362189353,\n 0.19824098232170034,\n 0.21173268612911042,\n 0.22682776462139326,\n 0.23774940664682628,\n 0.2520637012793976,\n 0.26905269273702553,\n 0.28564666120338167,\n 0.3189990853675827,\n 0.29163566057466567,\n 0.31313530411126167,\n 0.26911018955917826,\n 0.28570631808559976,\n 0.3060636199735819,\n 0.33570534151444553,\n 0.32453599186534066,\n 0.30975656215484243,\n 0.29842067017091706,\n 0.3326234519889427,\n 0.3046546569779377,\n 0.10014429939117184,\n 0.08962673762656401,\n 0.21675291903523958,\n 0.12380884653155447,\n 0.13725924581099128,\n 0.1452395689817965,\n 0.14853924366538218,\n 0.1571737940654389,\n 0.18138459891630493,\n 0.18159944395784355,\n 0.19160008785824706,\n 0.1069320110551556,\n 0.23581781475889194,\n 0.3346574809886901,\n 0.31647771648911177,\n 0.2861974378732774,\n 0.2781931224877674,\n 0.2618734186822765,\n 0.2495049160572008,\n 0.12431461326601605,\n 0.26394707566746767,\n 0.3054081132427406,\n 0.3248160937807272,\n 0.33240344745296846,\n 0.30815301832249,\n 0.3628052112356342,\n 0.2910648948223413,\n 0.3307032648366075,\n 0.30227512719504734,\n 0.3960158488960609,\n 0.3547961272786693,\n 0.4407942870882695,\n 0.3339709137934653,\n 0.33123491803437616,\n 0.3310951571489482,\n 0.3285437006977195,\n ...]"
      ]
     },
     "execution_count": 11,
     "metadata": {},
     "output_type": "execute_result"
    }
   ],
   "source": [
    "prediction_new"
   ]
  },
  {
   "cell_type": "code",
   "execution_count": null,
   "metadata": {
    "id": "EA6C582AE69D46B58BD15517E91FB6EB"
   },
   "outputs": [],
   "source": [
    ""
   ]
  }
 ],
 "metadata": {
  "kernelspec": {
   "name": "python3",
   "display_name": "Python 3",
   "language": "python"
  },
  "language_info": {
   "name": "python",
   "version": "3.6.4",
   "mimetype": "text/x-python",
   "codemirror_mode": {
    "name": "ipython",
    "version": 3.0
   },
   "pygments_lexer": "ipython3",
   "nbconvert_exporter": "python",
   "file_extension": ".py"
  }
 },
 "nbformat": 4,
 "nbformat_minor": 0
}